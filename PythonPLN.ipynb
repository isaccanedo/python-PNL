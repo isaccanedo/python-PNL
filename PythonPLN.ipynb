{
  "nbformat": 4,
  "nbformat_minor": 0,
  "metadata": {
    "colab": {
      "name": "PythonPLN_1.ipynb",
      "provenance": [],
      "collapsed_sections": [],
      "authorship_tag": "ABX9TyOtUg8WqcrkUr5wytcqGCbO",
      "include_colab_link": true
    },
    "kernelspec": {
      "name": "python3",
      "display_name": "Python 3"
    }
  },
  "cells": [
    {
      "cell_type": "markdown",
      "metadata": {
        "id": "view-in-github",
        "colab_type": "text"
      },
      "source": [
        "<a href=\"https://colab.research.google.com/github/ergonlima/Curso-USP-Python-e-PLN./blob/master/PythonPLN_1.ipynb\" target=\"_parent\"><img src=\"https://colab.research.google.com/assets/colab-badge.svg\" alt=\"Open In Colab\"/></a>"
      ]
    },
    {
      "cell_type": "code",
      "metadata": {
        "id": "cUVaE4yxDqvq",
        "colab_type": "code",
        "colab": {
          "base_uri": "https://localhost:8080/",
          "height": 34
        },
        "outputId": "f077f92f-0c37-48d6-ca4b-a8782d787b15"
      },
      "source": [
        "print(\"Olá Mundo!!\")"
      ],
      "execution_count": 2,
      "outputs": [
        {
          "output_type": "stream",
          "text": [
            "Olá Mundo!!\n"
          ],
          "name": "stdout"
        }
      ]
    },
    {
      "cell_type": "markdown",
      "metadata": {
        "id": "VDtxX42OD9Nj",
        "colab_type": "text"
      },
      "source": [
        "#Teste\n",
        "A seguir está um teste com soma e subtração."
      ]
    },
    {
      "cell_type": "code",
      "metadata": {
        "id": "t5WD8i0pERXs",
        "colab_type": "code",
        "colab": {
          "base_uri": "https://localhost:8080/",
          "height": 34
        },
        "outputId": "85ba6750-a8b6-4e7d-d7bc-8bef8ba5787c"
      },
      "source": [
        "a = 12\n",
        "b = 13\n",
        "c = a+b\n",
        "print (c)"
      ],
      "execution_count": 3,
      "outputs": [
        {
          "output_type": "stream",
          "text": [
            "25\n"
          ],
          "name": "stdout"
        }
      ]
    },
    {
      "cell_type": "code",
      "metadata": {
        "id": "KJt3zUFeWa6K",
        "colab_type": "code",
        "colab": {
          "base_uri": "https://localhost:8080/",
          "height": 34
        },
        "outputId": "af55f4bb-61c7-4fd3-bf42-5b6ed6981c7d"
      },
      "source": [
        "from google.colab import drive\n",
        "drive.mount(\"/content/drive\")"
      ],
      "execution_count": 22,
      "outputs": [
        {
          "output_type": "stream",
          "text": [
            "Drive already mounted at /content/drive; to attempt to forcibly remount, call drive.mount(\"/content/drive\", force_remount=True).\n"
          ],
          "name": "stdout"
        }
      ]
    },
    {
      "cell_type": "code",
      "metadata": {
        "id": "mbt1ZWIEdPXr",
        "colab_type": "code",
        "colab": {
          "base_uri": "https://localhost:8080/",
          "height": 68
        },
        "outputId": "f55d0e75-4e9b-4543-dadd-3d9a86680844"
      },
      "source": [
        "import nltk\n",
        "nltk.download(\"punkt\")"
      ],
      "execution_count": 27,
      "outputs": [
        {
          "output_type": "stream",
          "text": [
            "[nltk_data] Downloading package punkt to /root/nltk_data...\n",
            "[nltk_data]   Unzipping tokenizers/punkt.zip.\n"
          ],
          "name": "stdout"
        },
        {
          "output_type": "execute_result",
          "data": {
            "text/plain": [
              "True"
            ]
          },
          "metadata": {
            "tags": []
          },
          "execution_count": 27
        }
      ]
    },
    {
      "cell_type": "code",
      "metadata": {
        "id": "jieOpY1tFhmV",
        "colab_type": "code",
        "colab": {
          "base_uri": "https://localhost:8080/",
          "height": 187
        },
        "outputId": "1268a8d1-88e5-476a-af44-761429e89dd6"
      },
      "source": [
        "import nlpnet\n",
        "nlpnet.set_data_dir('/content/drive/My Drive/Colab Notebooks/nlpnet')\n",
        "tagger = nlpnet.POSTagger()\n",
        "tagger.tag('O rato roeu a roupa do rei de Roma.')"
      ],
      "execution_count": 28,
      "outputs": [
        {
          "output_type": "execute_result",
          "data": {
            "text/plain": [
              "[[('O', 'ART'),\n",
              "  ('rato', 'N'),\n",
              "  ('roeu', 'V'),\n",
              "  ('a', 'ART'),\n",
              "  ('roupa', 'N'),\n",
              "  ('do', 'PREP+ART'),\n",
              "  ('rei', 'N'),\n",
              "  ('de', 'PREP'),\n",
              "  ('Roma', 'NPROP'),\n",
              "  ('.', 'PU')]]"
            ]
          },
          "metadata": {
            "tags": []
          },
          "execution_count": 28
        }
      ]
    },
    {
      "cell_type": "code",
      "metadata": {
        "id": "kqGc9vfomOjZ",
        "colab_type": "code",
        "colab": {
          "base_uri": "https://localhost:8080/",
          "height": 289
        },
        "outputId": "c4c47805-0fb1-4920-9aaf-15105809cac4"
      },
      "source": [
        "sentencas = tagger.tag(\"A rapadura é doce mas não é mole não. Eu particularmente não gosto de rapadura\")\n",
        "sentencas"
      ],
      "execution_count": 35,
      "outputs": [
        {
          "output_type": "execute_result",
          "data": {
            "text/plain": [
              "[[('A', 'ART'),\n",
              "  ('rapadura', 'N'),\n",
              "  ('é', 'V'),\n",
              "  ('doce', 'ADJ'),\n",
              "  ('mas', 'KC'),\n",
              "  ('não', 'ADV'),\n",
              "  ('é', 'V'),\n",
              "  ('mole', 'ADJ'),\n",
              "  ('não', 'ADV'),\n",
              "  ('.', 'PU')],\n",
              " [('Eu', 'PROPESS'),\n",
              "  ('particularmente', 'ADV'),\n",
              "  ('não', 'ADV'),\n",
              "  ('gosto', 'V'),\n",
              "  ('de', 'PREP'),\n",
              "  ('rapadura', 'N')]]"
            ]
          },
          "metadata": {
            "tags": []
          },
          "execution_count": 35
        }
      ]
    },
    {
      "cell_type": "code",
      "metadata": {
        "id": "fZceiIxDncrd",
        "colab_type": "code",
        "colab": {
          "base_uri": "https://localhost:8080/",
          "height": 156
        },
        "outputId": "990bbc26-bcea-4a0b-abc0-908ea542fe57"
      },
      "source": [
        "for s in sentencas:\n",
        "  print(s)\n",
        "  for w in s:\n",
        "    if w[1] == 'V' or w[1] == 'ADJ' :\n",
        "      print(\"--------->\",w[0])"
      ],
      "execution_count": 49,
      "outputs": [
        {
          "output_type": "stream",
          "text": [
            "[('A', 'ART'), ('rapadura', 'N'), ('é', 'V'), ('doce', 'ADJ'), ('mas', 'KC'), ('não', 'ADV'), ('é', 'V'), ('mole', 'ADJ'), ('não', 'ADV'), ('.', 'PU')]\n",
            "---------> é\n",
            "---------> doce\n",
            "---------> é\n",
            "---------> mole\n",
            "[('Eu', 'PROPESS'), ('particularmente', 'ADV'), ('não', 'ADV'), ('gosto', 'V'), ('de', 'PREP'), ('rapadura', 'N')]\n",
            "---------> gosto\n"
          ],
          "name": "stdout"
        }
      ]
    },
    {
      "cell_type": "code",
      "metadata": {
        "id": "ppncKizBoiQw",
        "colab_type": "code",
        "colab": {}
      },
      "source": [
        "for s in sentencas:\n",
        "  print(s)\n",
        "  for w in s:\n",
        "    print(\"--------->\",w)"
      ],
      "execution_count": null,
      "outputs": []
    }
  ]
}